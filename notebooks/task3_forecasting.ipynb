{
 "cells": [
  {
   "cell_type": "markdown",
   "id": "56bfb111",
   "metadata": {},
   "source": [
    "Cell 1: Setup and Imports"
   ]
  },
  {
   "cell_type": "code",
   "execution_count": 3,
   "id": "9ff656cc",
   "metadata": {},
   "outputs": [],
   "source": [
    "import pandas as pd\n",
    "import numpy as np\n",
    "import matplotlib.pyplot as plt\n",
    "import joblib\n",
    "from statsmodels.tsa.arima.model import ARIMAResults\n",
    "from tensorflow.keras.models import load_model\n",
    "\n",
    "# Load combined data CSV or reload data however you had it before\n",
    "# Example: If you saved combined_df previously, load it or recreate here\n",
    "# For now, assuming you have combined_df in memory or loaded\n"
   ]
  },
  {
   "cell_type": "markdown",
   "id": "54403662",
   "metadata": {},
   "source": [
    "Cell 2: Load your saved models and scaler."
   ]
  },
  {
   "cell_type": "code",
   "execution_count": 4,
   "id": "0eb1395b",
   "metadata": {},
   "outputs": [
    {
     "name": "stderr",
     "output_type": "stream",
     "text": [
      "c:\\Users\\Bob\\Desktop\\10Acadamy\\week11\\.venv\\lib\\site-packages\\keras\\src\\saving\\saving_lib.py:797: UserWarning: Skipping variable loading for optimizer 'rmsprop', because it has 10 variables whereas the saved optimizer has 18 variables. \n",
      "  saveable.load_own_variables(weights_store.get(inner_path))\n"
     ]
    }
   ],
   "source": [
    "# Load saved ARIMA model\n",
    "arima_model = ARIMAResults.load(\"../models/arima_model.pkl\")\n",
    "\n",
    "# Load saved scaler for LSTM data preprocessing\n",
    "scaler = joblib.load(\"../models/scaler.pkl\")\n",
    "\n",
    "# Load saved LSTM model\n",
    "lstm_model = load_model(\"../models/lstm_model.keras\")\n"
   ]
  },
  {
   "cell_type": "markdown",
   "id": "eda698a3",
   "metadata": {},
   "source": [
    "Cell 3: Prepare your Tesla stock data for forecasting — extract the 'Close' prices for TSLA, sorted by date, and split into train and test sets."
   ]
  },
  {
   "cell_type": "markdown",
   "id": "75cfe6a8",
   "metadata": {},
   "source": [
    "Cell 3b to download and create combined_df again"
   ]
  },
  {
   "cell_type": "code",
   "execution_count": 7,
   "id": "00216415",
   "metadata": {},
   "outputs": [
    {
     "name": "stdout",
     "output_type": "stream",
     "text": [
      "Downloading TSLA data...\n"
     ]
    },
    {
     "name": "stderr",
     "output_type": "stream",
     "text": [
      "[*********************100%***********************]  1 of 1 completed\n"
     ]
    },
    {
     "name": "stdout",
     "output_type": "stream",
     "text": [
      "Downloading BND data...\n"
     ]
    },
    {
     "name": "stderr",
     "output_type": "stream",
     "text": [
      "[*********************100%***********************]  1 of 1 completed\n"
     ]
    },
    {
     "name": "stdout",
     "output_type": "stream",
     "text": [
      "Downloading SPY data...\n"
     ]
    },
    {
     "name": "stderr",
     "output_type": "stream",
     "text": [
      "[*********************100%***********************]  1 of 1 completed"
     ]
    },
    {
     "name": "stdout",
     "output_type": "stream",
     "text": [
      "Data combined!\n"
     ]
    },
    {
     "name": "stderr",
     "output_type": "stream",
     "text": [
      "\n"
     ]
    }
   ],
   "source": [
    "import yfinance as yf\n",
    "import pandas as pd\n",
    "\n",
    "tickers = ['TSLA', 'BND', 'SPY']\n",
    "start = '2015-07-01'\n",
    "end = '2025-07-31'\n",
    "\n",
    "all_data = {}\n",
    "\n",
    "for ticker in tickers:\n",
    "    print(f\"Downloading {ticker} data...\")\n",
    "    df = yf.download(ticker, start=start, end=end, auto_adjust=False)\n",
    "    df.ffill(inplace=True)  # Fill missing data\n",
    "    df['Ticker'] = ticker\n",
    "    all_data[ticker] = df\n",
    "\n",
    "combined_df = pd.concat(all_data.values(), axis=0)\n",
    "combined_df.index.name = 'Date'\n",
    "\n",
    "print(\"Data combined!\")\n"
   ]
  },
  {
   "cell_type": "code",
   "execution_count": 8,
   "id": "d1a4e2bc",
   "metadata": {},
   "outputs": [],
   "source": [
    "import pandas as pd\n",
    "\n",
    "# Load the combined data CSV if needed (or use existing combined_df)\n",
    "# combined_df = pd.read_csv(\"../data/your_combined_data.csv\", index_col='Date', parse_dates=True)\n",
    "\n",
    "\n",
    "# Filter TSLA data and use 'Close' price\n",
    "tsla_data = combined_df[combined_df['Ticker'] == 'TSLA']['Close'].sort_index()\n",
    "\n",
    "# Define forecast horizon (e.g., 6 months ~ 126 trading days)\n",
    "horizon_days = 126\n",
    "\n",
    "# Split into train and test based on horizon_days\n",
    "train = tsla_data[:-horizon_days]\n",
    "test = tsla_data[-horizon_days:]\n"
   ]
  },
  {
   "cell_type": "markdown",
   "id": "ea54ebd3",
   "metadata": {},
   "source": [
    "Cell 4 — extract the TSLA closing prices and set up the forecast horizon:"
   ]
  },
  {
   "cell_type": "code",
   "execution_count": 9,
   "id": "c347196c",
   "metadata": {},
   "outputs": [
    {
     "name": "stdout",
     "output_type": "stream",
     "text": [
      "Train set length: 2409\n",
      "Test set length: 126\n"
     ]
    }
   ],
   "source": [
    "# Extract TSLA Close prices, sorted by date\n",
    "tsla_data = combined_df[combined_df['Ticker'] == 'TSLA']['Close'].sort_index()\n",
    "\n",
    "# Define forecast horizon (e.g., 6 months ≈ 126 trading days)\n",
    "horizon_days = 126\n",
    "\n",
    "# Split train and test sets (train = all except last horizon_days, test = last horizon_days)\n",
    "train = tsla_data[:-horizon_days]\n",
    "test = tsla_data[-horizon_days:]\n",
    "\n",
    "print(f\"Train set length: {len(train)}\")\n",
    "print(f\"Test set length: {len(test)}\")\n"
   ]
  },
  {
   "cell_type": "markdown",
   "id": "2724f6a0",
   "metadata": {},
   "source": [
    "Cell 5 — generate the ARIMA forecast with confidence intervals"
   ]
  },
  {
   "cell_type": "code",
   "execution_count": 10,
   "id": "9057aeb9",
   "metadata": {},
   "outputs": [
    {
     "name": "stdout",
     "output_type": "stream",
     "text": [
      "2140    248.479996\n",
      "2141    248.479996\n",
      "2142    248.479996\n",
      "2143    248.479996\n",
      "2144    248.479996\n",
      "Name: predicted_mean, dtype: float64\n",
      "(126, 2)\n"
     ]
    },
    {
     "name": "stderr",
     "output_type": "stream",
     "text": [
      "c:\\Users\\Bob\\Desktop\\10Acadamy\\week11\\.venv\\lib\\site-packages\\statsmodels\\tsa\\base\\tsa_model.py:837: ValueWarning: No supported index is available. Prediction results will be given with an integer index beginning at `start`.\n",
      "  return get_prediction_index(\n",
      "c:\\Users\\Bob\\Desktop\\10Acadamy\\week11\\.venv\\lib\\site-packages\\statsmodels\\tsa\\base\\tsa_model.py:837: FutureWarning: No supported index is available. In the next version, calling this method in a model without a supported index will result in an exception.\n",
      "  return get_prediction_index(\n"
     ]
    }
   ],
   "source": [
    "from statsmodels.tsa.arima.model import ARIMAResults\n",
    "\n",
    "# Load your saved ARIMA model\n",
    "arima_model = ARIMAResults.load(\"../models/arima_model.pkl\")\n",
    "\n",
    "# Forecast next 'horizon_days' steps with confidence intervals\n",
    "arima_forecast_obj = arima_model.get_forecast(steps=horizon_days)\n",
    "forecast_arima = arima_forecast_obj.predicted_mean\n",
    "conf_int = arima_forecast_obj.conf_int()\n",
    "\n",
    "# Print forecast head and confidence intervals shape to verify\n",
    "print(forecast_arima.head())\n",
    "print(conf_int.shape)\n"
   ]
  },
  {
   "cell_type": "markdown",
   "id": "ddcf2193",
   "metadata": {},
   "source": [
    "Cell 6 — LSTM multi-step forecasting with the sliding window approach and inverse scaling:"
   ]
  },
  {
   "cell_type": "code",
   "execution_count": 12,
   "id": "f385d262",
   "metadata": {},
   "outputs": [
    {
     "name": "stdout",
     "output_type": "stream",
     "text": [
      "<class 'pandas.core.frame.DataFrame'>\n",
      "(2409, 3)\n",
      "Ticker           TSLA  BND  SPY\n",
      "Date                           \n",
      "2015-07-01  17.943333  NaN  NaN\n",
      "2015-07-02  18.667999  NaN  NaN\n",
      "2015-07-06  18.648001  NaN  NaN\n",
      "2015-07-07  17.858667  NaN  NaN\n",
      "2015-07-08  16.997334  NaN  NaN\n"
     ]
    }
   ],
   "source": [
    "print(type(train))\n",
    "print(train.shape)\n",
    "print(train.head())\n"
   ]
  },
  {
   "cell_type": "code",
   "execution_count": 14,
   "id": "ab63b549",
   "metadata": {},
   "outputs": [
    {
     "name": "stderr",
     "output_type": "stream",
     "text": [
      "c:\\Users\\Bob\\Desktop\\10Acadamy\\week11\\.venv\\lib\\site-packages\\sklearn\\utils\\validation.py:2749: UserWarning: X does not have valid feature names, but MinMaxScaler was fitted with feature names\n",
      "  warnings.warn(\n"
     ]
    },
    {
     "name": "stdout",
     "output_type": "stream",
     "text": [
      "2025-01-29    398.09198\n",
      "2025-01-30    398.09198\n",
      "2025-01-31    398.09198\n",
      "2025-02-03    398.09198\n",
      "2025-02-04    398.09198\n",
      "Freq: B, dtype: float32\n"
     ]
    }
   ],
   "source": [
    "import numpy as np\n",
    "import pandas as pd\n",
    "\n",
    "look_back = 60  # Must match LSTM training input window\n",
    "lstm_forecast_scaled = []\n",
    "\n",
    "# Take last 'look_back' days from train data and scale it\n",
    "\n",
    "last_train_values = scaler.transform(train['TSLA'][-look_back:].values.reshape(-1, 1))\n",
    "\n",
    "\n",
    "# Reshape to (1, look_back, 1) for LSTM input\n",
    "input_seq = last_train_values.reshape(1, look_back, 1)\n",
    "\n",
    "for _ in range(horizon_days):\n",
    "    pred_scaled = lstm_model.predict(input_seq, verbose=0)\n",
    "    lstm_forecast_scaled.append(pred_scaled[0, 0])\n",
    "\n",
    "    # Update input sequence: slide window by 1, append latest prediction\n",
    "    \n",
    "    input_seq = last_train_values.reshape(1, look_back, 1)\n",
    "\n",
    "\n",
    "# Inverse transform the scaled predictions back to original scale\n",
    "lstm_forecast = scaler.inverse_transform(np.array(lstm_forecast_scaled).reshape(-1, 1)).flatten()\n",
    "\n",
    "# Create datetime index for the forecast horizon\n",
    "lstm_forecast_index = pd.date_range(start=train.index[-1] + pd.Timedelta(days=1), periods=horizon_days, freq='B')\n",
    "lstm_forecast_series = pd.Series(lstm_forecast, index=lstm_forecast_index)\n",
    "\n",
    "# Show first few predictions\n",
    "print(lstm_forecast_series.head())\n"
   ]
  },
  {
   "cell_type": "markdown",
   "id": "1881e05b",
   "metadata": {},
   "source": [
    "Cell 7: Generate LSTM multi-step forecast with sliding window"
   ]
  },
  {
   "cell_type": "code",
   "execution_count": 16,
   "id": "4e66f790",
   "metadata": {},
   "outputs": [],
   "source": [
    "lstm_forecast_scaled = []\n",
    "\n",
    "for _ in range(horizon_days):\n",
    "    pred_scaled = lstm_model.predict(input_seq, verbose=0)\n",
    "    lstm_forecast_scaled.append(pred_scaled[0, 0])\n",
    "    \n",
    "    # Slide window: remove oldest value and add newest prediction\n",
    "    input_seq = np.append(input_seq[:, 1:, :], pred_scaled.reshape(1, 1, 1), axis=1)\n",
    "\n",
    "\n",
    "# Inverse transform predictions back to original scale\n",
    "lstm_forecast = scaler.inverse_transform(np.array(lstm_forecast_scaled).reshape(-1, 1)).flatten()\n",
    "\n",
    "# Create datetime index for the forecast horizon\n",
    "lstm_forecast_index = pd.date_range(start=train.index[-1] + pd.Timedelta(days=1), periods=horizon_days, freq='B')\n",
    "\n",
    "# Convert to pandas Series for easier plotting\n",
    "lstm_forecast_series = pd.Series(lstm_forecast, index=lstm_forecast_index)\n"
   ]
  },
  {
   "cell_type": "markdown",
   "id": "b2730430",
   "metadata": {},
   "source": [
    "Cell: Plot historical TSLA prices and forecasts from both ARIMA and LSTM"
   ]
  },
  {
   "cell_type": "code",
   "execution_count": 19,
   "id": "c9c0f63f",
   "metadata": {},
   "outputs": [],
   "source": [
    "from statsmodels.tsa.arima.model import ARIMAResults\n",
    "\n",
    "# Load trained ARIMA model\n",
    "fitted_model = ARIMAResults.load(\"../models/arima_model.pkl\")\n"
   ]
  },
  {
   "cell_type": "code",
   "execution_count": 22,
   "id": "2d76e807",
   "metadata": {},
   "outputs": [
    {
     "name": "stderr",
     "output_type": "stream",
     "text": [
      "c:\\Users\\Bob\\Desktop\\10Acadamy\\week11\\.venv\\lib\\site-packages\\statsmodels\\tsa\\base\\tsa_model.py:837: ValueWarning: No supported index is available. Prediction results will be given with an integer index beginning at `start`.\n",
      "  return get_prediction_index(\n"
     ]
    }
   ],
   "source": [
    "# Assuming 'fitted_model' is your trained ARIMA model\n",
    "\n",
    "# Forecast for horizon_days steps with confidence intervals\n",
    "arima_forecast_result = fitted_model.get_forecast(steps=horizon_days)\n",
    "\n",
    "# Extract forecasted mean and confidence intervals\n",
    "forecast_arima = arima_forecast_result.predicted_mean\n",
    "conf_int = arima_forecast_result.conf_int()\n",
    "\n",
    "\n",
    "\n",
    "\n"
   ]
  },
  {
   "cell_type": "code",
   "execution_count": 24,
   "id": "a517e19f",
   "metadata": {},
   "outputs": [
    {
     "data": {
      "image/png": "[encoded data removed]",
      "text/plain": [
       "<Figure size 1400x700 with 1 Axes>"
      ]
     },
     "metadata": {},
     "output_type": "display_data"
    }
   ],
   "source": [
    "plt.figure(figsize=(14, 7))\n",
    "\n",
    "# Plot historical actual data\n",
    "plt.plot(tsla_data.index, tsla_data.values, label='Historical TSLA Price', color='black')\n",
    "\n",
    "# Plot ARIMA forecast\n",
    "plt.plot(forecast_arima.index, forecast_arima.values, label='ARIMA Forecast', color='blue')\n",
    "\n",
    "# Plot LSTM forecast\n",
    "plt.plot(lstm_forecast_series.index, lstm_forecast_series.values, label='LSTM Forecast', color='red')\n",
    "\n",
    "# Plot ARIMA confidence intervals (shaded)\n",
    "\n",
    "plt.fill_between(conf_int.index,\n",
    "                 conf_int.iloc[:, 0],  # Lower bound\n",
    "                 conf_int.iloc[:, 1],  # Upper bound\n",
    "                 color='blue', alpha=0.2, label='ARIMA 95% CI')\n",
    "\n",
    "\n",
    "plt.title(\"Tesla Stock Price Forecast - ARIMA & LSTM\")\n",
    "plt.xlabel(\"Date\")\n",
    "plt.ylabel(\"Price\")\n",
    "plt.legend()\n",
    "plt.grid(True)\n",
    "plt.show()\n"
   ]
  }
 ],
 "metadata": {
  "kernelspec": {
   "display_name": ".venv",
   "language": "python",
   "name": "python3"
  },
  "language_info": {
   "codemirror_mode": {
    "name": "ipython",
    "version": 3
   },
   "file_extension": ".py",
   "mimetype": "text/x-python",
   "name": "python",
   "nbconvert_exporter": "python",
   "pygments_lexer": "ipython3",
   "version": "3.10.0"
  }
 },
 "nbformat": 4,
 "nbformat_minor": 5
}
